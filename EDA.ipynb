{
 "cells": [
  {
   "cell_type": "markdown",
   "metadata": {},
   "source": [
    "# Customer Churn Data from SyriaTel\n",
    "\n",
    "Dataset can be found here[!https://www.kaggle.com/becksddf/churn-in-telecoms-dataset]. \n",
    "\n",
    "Predict whether a customer stays or leaves the company. Binary classification.\n",
    "\n",
    "Business problem: why is predicting churn important? why do I need a model for this? discuss any potential remedies for churn (what do I do with the output of the model) \n",
    "\n",
    "Talk about the columns (add in a description for columns)\n",
    "\n",
    "Results from modelling: brief intro about what sort of results to expect and <b>define precision, recall and accuracy in context of your business problem</b>"
   ]
  },
  {
   "cell_type": "code",
   "execution_count": 1,
   "metadata": {},
   "outputs": [
    {
     "data": {
      "text/plain": [
       "[405, 557, 367, 524, 756]"
      ]
     },
     "execution_count": 1,
     "metadata": {},
     "output_type": "execute_result"
    }
   ],
   "source": [
    "import pyspark\n",
    "sc = pyspark.SparkContext('local[*]')\n",
    "rdd = sc.parallelize(range(1000))\n",
    "rdd.takeSample(False, 5)"
   ]
  },
  {
   "cell_type": "code",
   "execution_count": null,
   "metadata": {},
   "outputs": [],
   "source": []
  },
  {
   "cell_type": "code",
   "execution_count": null,
   "metadata": {},
   "outputs": [],
   "source": []
  },
  {
   "cell_type": "code",
   "execution_count": 1,
   "metadata": {
    "ExecuteTime": {
     "end_time": "2021-02-09T19:19:40.444443Z",
     "start_time": "2021-02-09T19:19:39.329035Z"
    }
   },
   "outputs": [],
   "source": [
    "import pandas as pd\n",
    "import numpy as np\n",
    "import matplotlib.pyplot as plt\n",
    "import seaborn as sns"
   ]
  },
  {
   "cell_type": "code",
   "execution_count": 2,
   "metadata": {
    "ExecuteTime": {
     "end_time": "2021-02-09T19:19:40.459198Z",
     "start_time": "2021-02-09T19:19:40.446070Z"
    }
   },
   "outputs": [],
   "source": [
    "df = pd.read_csv('churn_data.csv')"
   ]
  },
  {
   "cell_type": "markdown",
   "metadata": {},
   "source": [
    "##  Data cleaning"
   ]
  },
  {
   "cell_type": "code",
   "execution_count": 3,
   "metadata": {
    "ExecuteTime": {
     "end_time": "2021-02-09T19:19:40.472488Z",
     "start_time": "2021-02-09T19:19:40.464261Z"
    }
   },
   "outputs": [
    {
     "name": "stdout",
     "output_type": "stream",
     "text": [
      "<class 'pandas.core.frame.DataFrame'>\n",
      "RangeIndex: 3333 entries, 0 to 3332\n",
      "Data columns (total 21 columns):\n",
      " #   Column                  Non-Null Count  Dtype  \n",
      "---  ------                  --------------  -----  \n",
      " 0   state                   3333 non-null   object \n",
      " 1   account length          3333 non-null   int64  \n",
      " 2   area code               3333 non-null   int64  \n",
      " 3   phone number            3333 non-null   object \n",
      " 4   international plan      3333 non-null   object \n",
      " 5   voice mail plan         3333 non-null   object \n",
      " 6   number vmail messages   3333 non-null   int64  \n",
      " 7   total day minutes       3333 non-null   float64\n",
      " 8   total day calls         3333 non-null   int64  \n",
      " 9   total day charge        3333 non-null   float64\n",
      " 10  total eve minutes       3333 non-null   float64\n",
      " 11  total eve calls         3333 non-null   int64  \n",
      " 12  total eve charge        3333 non-null   float64\n",
      " 13  total night minutes     3333 non-null   float64\n",
      " 14  total night calls       3333 non-null   int64  \n",
      " 15  total night charge      3333 non-null   float64\n",
      " 16  total intl minutes      3333 non-null   float64\n",
      " 17  total intl calls        3333 non-null   int64  \n",
      " 18  total intl charge       3333 non-null   float64\n",
      " 19  customer service calls  3333 non-null   int64  \n",
      " 20  churn                   3333 non-null   bool   \n",
      "dtypes: bool(1), float64(8), int64(8), object(4)\n",
      "memory usage: 524.2+ KB\n"
     ]
    }
   ],
   "source": [
    "df.info()"
   ]
  },
  {
   "cell_type": "markdown",
   "metadata": {},
   "source": [
    "Looking at the information above, no missing values. But there are some weird datatypes.\n",
    "\n",
    "1. state is an object. If I potentially have 50 states, I might need to deal with that a little differently as I don't want 50 categories\n",
    "\n",
    "2. phone number?\n",
    "\n",
    "3. international plan?\n",
    "\n",
    "4. voice mail plan?\n"
   ]
  },
  {
   "cell_type": "code",
   "execution_count": 4,
   "metadata": {
    "ExecuteTime": {
     "end_time": "2021-02-09T19:19:40.481366Z",
     "start_time": "2021-02-09T19:19:40.474812Z"
    }
   },
   "outputs": [
    {
     "data": {
      "text/plain": [
       "51"
      ]
     },
     "execution_count": 4,
     "metadata": {},
     "output_type": "execute_result"
    }
   ],
   "source": [
    "df.state.nunique()"
   ]
  },
  {
   "cell_type": "code",
   "execution_count": 5,
   "metadata": {
    "ExecuteTime": {
     "end_time": "2021-02-09T19:19:40.495838Z",
     "start_time": "2021-02-09T19:19:40.483044Z"
    }
   },
   "outputs": [
    {
     "data": {
      "text/plain": [
       "no     0.90309\n",
       "yes    0.09691\n",
       "Name: international plan, dtype: float64"
      ]
     },
     "execution_count": 5,
     "metadata": {},
     "output_type": "execute_result"
    }
   ],
   "source": [
    "df['international plan'].value_counts(normalize= True)"
   ]
  },
  {
   "cell_type": "code",
   "execution_count": 6,
   "metadata": {
    "ExecuteTime": {
     "end_time": "2021-02-09T19:19:40.502732Z",
     "start_time": "2021-02-09T19:19:40.497350Z"
    }
   },
   "outputs": [
    {
     "data": {
      "text/plain": [
       "no     0.723372\n",
       "yes    0.276628\n",
       "Name: voice mail plan, dtype: float64"
      ]
     },
     "execution_count": 6,
     "metadata": {},
     "output_type": "execute_result"
    }
   ],
   "source": [
    "df['voice mail plan'].value_counts(normalize= True)"
   ]
  },
  {
   "cell_type": "code",
   "execution_count": 7,
   "metadata": {
    "ExecuteTime": {
     "end_time": "2021-02-09T19:19:40.513723Z",
     "start_time": "2021-02-09T19:19:40.505652Z"
    }
   },
   "outputs": [
    {
     "data": {
      "text/plain": [
       "415-4609    0.0003\n",
       "345-2863    0.0003\n",
       "328-8179    0.0003\n",
       "376-7207    0.0003\n",
       "349-4979    0.0003\n",
       "             ...  \n",
       "415-2285    0.0003\n",
       "416-7866    0.0003\n",
       "360-1406    0.0003\n",
       "388-9464    0.0003\n",
       "344-6258    0.0003\n",
       "Name: phone number, Length: 3333, dtype: float64"
      ]
     },
     "execution_count": 7,
     "metadata": {},
     "output_type": "execute_result"
    }
   ],
   "source": [
    "df['phone number'].value_counts(normalize= True)"
   ]
  },
  {
   "cell_type": "markdown",
   "metadata": {},
   "source": [
    " based on the above value counts:\n",
    " \n",
    " 1. For the variable <b>states</b>, we might need to think of a different strategy. Possibly binning\n",
    " 2. For international plan and voice mail plan, we can simply map the yes and no values to 1 and 0 and that should be solved.\n",
    " 3. For phone number, dropping it might be a good solution"
   ]
  },
  {
   "cell_type": "markdown",
   "metadata": {},
   "source": [
    "### Dealing with State"
   ]
  },
  {
   "cell_type": "code",
   "execution_count": 8,
   "metadata": {
    "ExecuteTime": {
     "end_time": "2021-02-09T19:19:40.520114Z",
     "start_time": "2021-02-09T19:19:40.516577Z"
    }
   },
   "outputs": [
    {
     "data": {
      "text/plain": [
       "array(['KS', 'OH', 'NJ', 'OK', 'AL', 'MA', 'MO', 'LA', 'WV', 'IN', 'RI',\n",
       "       'IA', 'MT', 'NY', 'ID', 'VT', 'VA', 'TX', 'FL', 'CO', 'AZ', 'SC',\n",
       "       'NE', 'WY', 'HI', 'IL', 'NH', 'GA', 'AK', 'MD', 'AR', 'WI', 'OR',\n",
       "       'MI', 'DE', 'UT', 'CA', 'MN', 'SD', 'NC', 'WA', 'NM', 'NV', 'DC',\n",
       "       'KY', 'ME', 'MS', 'TN', 'PA', 'CT', 'ND'], dtype=object)"
      ]
     },
     "execution_count": 8,
     "metadata": {},
     "output_type": "execute_result"
    }
   ],
   "source": [
    "df.state.unique()"
   ]
  },
  {
   "cell_type": "code",
   "execution_count": 9,
   "metadata": {
    "ExecuteTime": {
     "end_time": "2021-02-09T19:19:40.739024Z",
     "start_time": "2021-02-09T19:19:40.522114Z"
    }
   },
   "outputs": [],
   "source": [
    "df_state_division = pd.read_csv('https://raw.githubusercontent.com/cphalpert/census-regions/master/us%20census%20bureau%20regions%20and%20divisions.csv')"
   ]
  },
  {
   "cell_type": "code",
   "execution_count": 10,
   "metadata": {
    "ExecuteTime": {
     "end_time": "2021-02-09T19:19:40.749121Z",
     "start_time": "2021-02-09T19:19:40.741057Z"
    }
   },
   "outputs": [
    {
     "data": {
      "text/html": [
       "<div>\n",
       "<style scoped>\n",
       "    .dataframe tbody tr th:only-of-type {\n",
       "        vertical-align: middle;\n",
       "    }\n",
       "\n",
       "    .dataframe tbody tr th {\n",
       "        vertical-align: top;\n",
       "    }\n",
       "\n",
       "    .dataframe thead th {\n",
       "        text-align: right;\n",
       "    }\n",
       "</style>\n",
       "<table border=\"1\" class=\"dataframe\">\n",
       "  <thead>\n",
       "    <tr style=\"text-align: right;\">\n",
       "      <th></th>\n",
       "      <th>State</th>\n",
       "      <th>State Code</th>\n",
       "      <th>Region</th>\n",
       "      <th>Division</th>\n",
       "    </tr>\n",
       "  </thead>\n",
       "  <tbody>\n",
       "    <tr>\n",
       "      <th>0</th>\n",
       "      <td>Alaska</td>\n",
       "      <td>AK</td>\n",
       "      <td>West</td>\n",
       "      <td>Pacific</td>\n",
       "    </tr>\n",
       "    <tr>\n",
       "      <th>1</th>\n",
       "      <td>Alabama</td>\n",
       "      <td>AL</td>\n",
       "      <td>South</td>\n",
       "      <td>East South Central</td>\n",
       "    </tr>\n",
       "    <tr>\n",
       "      <th>2</th>\n",
       "      <td>Arkansas</td>\n",
       "      <td>AR</td>\n",
       "      <td>South</td>\n",
       "      <td>West South Central</td>\n",
       "    </tr>\n",
       "    <tr>\n",
       "      <th>3</th>\n",
       "      <td>Arizona</td>\n",
       "      <td>AZ</td>\n",
       "      <td>West</td>\n",
       "      <td>Mountain</td>\n",
       "    </tr>\n",
       "    <tr>\n",
       "      <th>4</th>\n",
       "      <td>California</td>\n",
       "      <td>CA</td>\n",
       "      <td>West</td>\n",
       "      <td>Pacific</td>\n",
       "    </tr>\n",
       "  </tbody>\n",
       "</table>\n",
       "</div>"
      ],
      "text/plain": [
       "        State State Code Region            Division\n",
       "0      Alaska         AK   West             Pacific\n",
       "1     Alabama         AL  South  East South Central\n",
       "2    Arkansas         AR  South  West South Central\n",
       "3     Arizona         AZ   West            Mountain\n",
       "4  California         CA   West             Pacific"
      ]
     },
     "execution_count": 10,
     "metadata": {},
     "output_type": "execute_result"
    }
   ],
   "source": [
    "df_state_division.head()"
   ]
  },
  {
   "cell_type": "code",
   "execution_count": 11,
   "metadata": {
    "ExecuteTime": {
     "end_time": "2021-02-09T19:19:40.755533Z",
     "start_time": "2021-02-09T19:19:40.750254Z"
    }
   },
   "outputs": [
    {
     "name": "stdout",
     "output_type": "stream",
     "text": [
      "<class 'pandas.core.frame.DataFrame'>\n",
      "RangeIndex: 51 entries, 0 to 50\n",
      "Data columns (total 4 columns):\n",
      " #   Column      Non-Null Count  Dtype \n",
      "---  ------      --------------  ----- \n",
      " 0   State       51 non-null     object\n",
      " 1   State Code  51 non-null     object\n",
      " 2   Region      51 non-null     object\n",
      " 3   Division    51 non-null     object\n",
      "dtypes: object(4)\n",
      "memory usage: 1.7+ KB\n"
     ]
    }
   ],
   "source": [
    "df_state_division.info()"
   ]
  },
  {
   "cell_type": "code",
   "execution_count": 12,
   "metadata": {
    "ExecuteTime": {
     "end_time": "2021-02-09T19:19:40.765676Z",
     "start_time": "2021-02-09T19:19:40.757680Z"
    }
   },
   "outputs": [],
   "source": [
    "df = df.merge(df_state_division, left_on = 'state', right_on = 'State Code')"
   ]
  },
  {
   "cell_type": "code",
   "execution_count": 13,
   "metadata": {
    "ExecuteTime": {
     "end_time": "2021-02-09T19:19:40.778048Z",
     "start_time": "2021-02-09T19:19:40.767478Z"
    }
   },
   "outputs": [
    {
     "name": "stdout",
     "output_type": "stream",
     "text": [
      "<class 'pandas.core.frame.DataFrame'>\n",
      "Int64Index: 3333 entries, 0 to 3332\n",
      "Data columns (total 25 columns):\n",
      " #   Column                  Non-Null Count  Dtype  \n",
      "---  ------                  --------------  -----  \n",
      " 0   state                   3333 non-null   object \n",
      " 1   account length          3333 non-null   int64  \n",
      " 2   area code               3333 non-null   int64  \n",
      " 3   phone number            3333 non-null   object \n",
      " 4   international plan      3333 non-null   object \n",
      " 5   voice mail plan         3333 non-null   object \n",
      " 6   number vmail messages   3333 non-null   int64  \n",
      " 7   total day minutes       3333 non-null   float64\n",
      " 8   total day calls         3333 non-null   int64  \n",
      " 9   total day charge        3333 non-null   float64\n",
      " 10  total eve minutes       3333 non-null   float64\n",
      " 11  total eve calls         3333 non-null   int64  \n",
      " 12  total eve charge        3333 non-null   float64\n",
      " 13  total night minutes     3333 non-null   float64\n",
      " 14  total night calls       3333 non-null   int64  \n",
      " 15  total night charge      3333 non-null   float64\n",
      " 16  total intl minutes      3333 non-null   float64\n",
      " 17  total intl calls        3333 non-null   int64  \n",
      " 18  total intl charge       3333 non-null   float64\n",
      " 19  customer service calls  3333 non-null   int64  \n",
      " 20  churn                   3333 non-null   bool   \n",
      " 21  State                   3333 non-null   object \n",
      " 22  State Code              3333 non-null   object \n",
      " 23  Region                  3333 non-null   object \n",
      " 24  Division                3333 non-null   object \n",
      "dtypes: bool(1), float64(8), int64(8), object(8)\n",
      "memory usage: 654.2+ KB\n"
     ]
    }
   ],
   "source": [
    "df.info()"
   ]
  },
  {
   "cell_type": "code",
   "execution_count": 14,
   "metadata": {
    "ExecuteTime": {
     "end_time": "2021-02-09T19:19:40.801649Z",
     "start_time": "2021-02-09T19:19:40.779806Z"
    }
   },
   "outputs": [
    {
     "data": {
      "text/html": [
       "<div>\n",
       "<style scoped>\n",
       "    .dataframe tbody tr th:only-of-type {\n",
       "        vertical-align: middle;\n",
       "    }\n",
       "\n",
       "    .dataframe tbody tr th {\n",
       "        vertical-align: top;\n",
       "    }\n",
       "\n",
       "    .dataframe thead th {\n",
       "        text-align: right;\n",
       "    }\n",
       "</style>\n",
       "<table border=\"1\" class=\"dataframe\">\n",
       "  <thead>\n",
       "    <tr style=\"text-align: right;\">\n",
       "      <th></th>\n",
       "      <th>state</th>\n",
       "      <th>account length</th>\n",
       "      <th>area code</th>\n",
       "      <th>phone number</th>\n",
       "      <th>international plan</th>\n",
       "      <th>voice mail plan</th>\n",
       "      <th>number vmail messages</th>\n",
       "      <th>total day minutes</th>\n",
       "      <th>total day calls</th>\n",
       "      <th>total day charge</th>\n",
       "      <th>...</th>\n",
       "      <th>total night charge</th>\n",
       "      <th>total intl minutes</th>\n",
       "      <th>total intl calls</th>\n",
       "      <th>total intl charge</th>\n",
       "      <th>customer service calls</th>\n",
       "      <th>churn</th>\n",
       "      <th>State</th>\n",
       "      <th>State Code</th>\n",
       "      <th>Region</th>\n",
       "      <th>Division</th>\n",
       "    </tr>\n",
       "  </thead>\n",
       "  <tbody>\n",
       "    <tr>\n",
       "      <th>0</th>\n",
       "      <td>KS</td>\n",
       "      <td>128</td>\n",
       "      <td>415</td>\n",
       "      <td>382-4657</td>\n",
       "      <td>no</td>\n",
       "      <td>yes</td>\n",
       "      <td>25</td>\n",
       "      <td>265.1</td>\n",
       "      <td>110</td>\n",
       "      <td>45.07</td>\n",
       "      <td>...</td>\n",
       "      <td>11.01</td>\n",
       "      <td>10.0</td>\n",
       "      <td>3</td>\n",
       "      <td>2.70</td>\n",
       "      <td>1</td>\n",
       "      <td>False</td>\n",
       "      <td>Kansas</td>\n",
       "      <td>KS</td>\n",
       "      <td>Midwest</td>\n",
       "      <td>West North Central</td>\n",
       "    </tr>\n",
       "    <tr>\n",
       "      <th>1</th>\n",
       "      <td>KS</td>\n",
       "      <td>70</td>\n",
       "      <td>408</td>\n",
       "      <td>411-4582</td>\n",
       "      <td>no</td>\n",
       "      <td>no</td>\n",
       "      <td>0</td>\n",
       "      <td>232.1</td>\n",
       "      <td>122</td>\n",
       "      <td>39.46</td>\n",
       "      <td>...</td>\n",
       "      <td>9.05</td>\n",
       "      <td>0.0</td>\n",
       "      <td>0</td>\n",
       "      <td>0.00</td>\n",
       "      <td>3</td>\n",
       "      <td>False</td>\n",
       "      <td>Kansas</td>\n",
       "      <td>KS</td>\n",
       "      <td>Midwest</td>\n",
       "      <td>West North Central</td>\n",
       "    </tr>\n",
       "    <tr>\n",
       "      <th>2</th>\n",
       "      <td>KS</td>\n",
       "      <td>92</td>\n",
       "      <td>408</td>\n",
       "      <td>386-4170</td>\n",
       "      <td>yes</td>\n",
       "      <td>no</td>\n",
       "      <td>0</td>\n",
       "      <td>62.6</td>\n",
       "      <td>111</td>\n",
       "      <td>10.64</td>\n",
       "      <td>...</td>\n",
       "      <td>9.98</td>\n",
       "      <td>10.4</td>\n",
       "      <td>2</td>\n",
       "      <td>2.81</td>\n",
       "      <td>1</td>\n",
       "      <td>True</td>\n",
       "      <td>Kansas</td>\n",
       "      <td>KS</td>\n",
       "      <td>Midwest</td>\n",
       "      <td>West North Central</td>\n",
       "    </tr>\n",
       "    <tr>\n",
       "      <th>3</th>\n",
       "      <td>KS</td>\n",
       "      <td>137</td>\n",
       "      <td>408</td>\n",
       "      <td>352-8202</td>\n",
       "      <td>no</td>\n",
       "      <td>no</td>\n",
       "      <td>0</td>\n",
       "      <td>205.9</td>\n",
       "      <td>88</td>\n",
       "      <td>35.00</td>\n",
       "      <td>...</td>\n",
       "      <td>13.05</td>\n",
       "      <td>14.5</td>\n",
       "      <td>4</td>\n",
       "      <td>3.92</td>\n",
       "      <td>2</td>\n",
       "      <td>False</td>\n",
       "      <td>Kansas</td>\n",
       "      <td>KS</td>\n",
       "      <td>Midwest</td>\n",
       "      <td>West North Central</td>\n",
       "    </tr>\n",
       "    <tr>\n",
       "      <th>4</th>\n",
       "      <td>KS</td>\n",
       "      <td>132</td>\n",
       "      <td>415</td>\n",
       "      <td>369-3214</td>\n",
       "      <td>no</td>\n",
       "      <td>no</td>\n",
       "      <td>0</td>\n",
       "      <td>83.4</td>\n",
       "      <td>110</td>\n",
       "      <td>14.18</td>\n",
       "      <td>...</td>\n",
       "      <td>6.60</td>\n",
       "      <td>7.6</td>\n",
       "      <td>5</td>\n",
       "      <td>2.05</td>\n",
       "      <td>1</td>\n",
       "      <td>False</td>\n",
       "      <td>Kansas</td>\n",
       "      <td>KS</td>\n",
       "      <td>Midwest</td>\n",
       "      <td>West North Central</td>\n",
       "    </tr>\n",
       "  </tbody>\n",
       "</table>\n",
       "<p>5 rows × 25 columns</p>\n",
       "</div>"
      ],
      "text/plain": [
       "  state  account length  area code phone number international plan  \\\n",
       "0    KS             128        415     382-4657                 no   \n",
       "1    KS              70        408     411-4582                 no   \n",
       "2    KS              92        408     386-4170                yes   \n",
       "3    KS             137        408     352-8202                 no   \n",
       "4    KS             132        415     369-3214                 no   \n",
       "\n",
       "  voice mail plan  number vmail messages  total day minutes  total day calls  \\\n",
       "0             yes                     25              265.1              110   \n",
       "1              no                      0              232.1              122   \n",
       "2              no                      0               62.6              111   \n",
       "3              no                      0              205.9               88   \n",
       "4              no                      0               83.4              110   \n",
       "\n",
       "   total day charge  ...  total night charge  total intl minutes  \\\n",
       "0             45.07  ...               11.01                10.0   \n",
       "1             39.46  ...                9.05                 0.0   \n",
       "2             10.64  ...                9.98                10.4   \n",
       "3             35.00  ...               13.05                14.5   \n",
       "4             14.18  ...                6.60                 7.6   \n",
       "\n",
       "   total intl calls  total intl charge  customer service calls  churn   State  \\\n",
       "0                 3               2.70                       1  False  Kansas   \n",
       "1                 0               0.00                       3  False  Kansas   \n",
       "2                 2               2.81                       1   True  Kansas   \n",
       "3                 4               3.92                       2  False  Kansas   \n",
       "4                 5               2.05                       1  False  Kansas   \n",
       "\n",
       "   State Code   Region            Division  \n",
       "0          KS  Midwest  West North Central  \n",
       "1          KS  Midwest  West North Central  \n",
       "2          KS  Midwest  West North Central  \n",
       "3          KS  Midwest  West North Central  \n",
       "4          KS  Midwest  West North Central  \n",
       "\n",
       "[5 rows x 25 columns]"
      ]
     },
     "execution_count": 14,
     "metadata": {},
     "output_type": "execute_result"
    }
   ],
   "source": [
    "df.head()"
   ]
  },
  {
   "cell_type": "code",
   "execution_count": 15,
   "metadata": {
    "ExecuteTime": {
     "end_time": "2021-02-09T19:19:40.986382Z",
     "start_time": "2021-02-09T19:19:40.803165Z"
    }
   },
   "outputs": [
    {
     "data": {
      "text/plain": [
       "<AxesSubplot:xlabel='count', ylabel='Division'>"
      ]
     },
     "execution_count": 15,
     "metadata": {},
     "output_type": "execute_result"
    },
    {
     "data": {
      "image/png": "[encoded data removed]",
      "text/plain": [
       "<Figure size 432x288 with 1 Axes>"
      ]
     },
     "metadata": {
      "needs_background": "light"
     },
     "output_type": "display_data"
    }
   ],
   "source": [
    "sns.countplot(y= \"Division\", data = df)"
   ]
  },
  {
   "cell_type": "code",
   "execution_count": 16,
   "metadata": {
    "ExecuteTime": {
     "end_time": "2021-02-09T19:19:40.991697Z",
     "start_time": "2021-02-09T19:19:40.987894Z"
    }
   },
   "outputs": [],
   "source": [
    "df.drop(columns = ['state', 'State', 'State Code', 'Region'], axis = 1, inplace= True)"
   ]
  },
  {
   "cell_type": "code",
   "execution_count": 17,
   "metadata": {
    "ExecuteTime": {
     "end_time": "2021-02-09T19:19:41.004371Z",
     "start_time": "2021-02-09T19:19:40.993521Z"
    }
   },
   "outputs": [
    {
     "name": "stdout",
     "output_type": "stream",
     "text": [
      "<class 'pandas.core.frame.DataFrame'>\n",
      "Int64Index: 3333 entries, 0 to 3332\n",
      "Data columns (total 21 columns):\n",
      " #   Column                  Non-Null Count  Dtype  \n",
      "---  ------                  --------------  -----  \n",
      " 0   account length          3333 non-null   int64  \n",
      " 1   area code               3333 non-null   int64  \n",
      " 2   phone number            3333 non-null   object \n",
      " 3   international plan      3333 non-null   object \n",
      " 4   voice mail plan         3333 non-null   object \n",
      " 5   number vmail messages   3333 non-null   int64  \n",
      " 6   total day minutes       3333 non-null   float64\n",
      " 7   total day calls         3333 non-null   int64  \n",
      " 8   total day charge        3333 non-null   float64\n",
      " 9   total eve minutes       3333 non-null   float64\n",
      " 10  total eve calls         3333 non-null   int64  \n",
      " 11  total eve charge        3333 non-null   float64\n",
      " 12  total night minutes     3333 non-null   float64\n",
      " 13  total night calls       3333 non-null   int64  \n",
      " 14  total night charge      3333 non-null   float64\n",
      " 15  total intl minutes      3333 non-null   float64\n",
      " 16  total intl calls        3333 non-null   int64  \n",
      " 17  total intl charge       3333 non-null   float64\n",
      " 18  customer service calls  3333 non-null   int64  \n",
      " 19  churn                   3333 non-null   bool   \n",
      " 20  Division                3333 non-null   object \n",
      "dtypes: bool(1), float64(8), int64(8), object(4)\n",
      "memory usage: 710.1+ KB\n"
     ]
    }
   ],
   "source": [
    "df.info()"
   ]
  },
  {
   "cell_type": "code",
   "execution_count": 18,
   "metadata": {
    "ExecuteTime": {
     "end_time": "2021-02-09T19:19:41.030477Z",
     "start_time": "2021-02-09T19:19:41.007150Z"
    }
   },
   "outputs": [
    {
     "data": {
      "text/html": [
       "<div>\n",
       "<style scoped>\n",
       "    .dataframe tbody tr th:only-of-type {\n",
       "        vertical-align: middle;\n",
       "    }\n",
       "\n",
       "    .dataframe tbody tr th {\n",
       "        vertical-align: top;\n",
       "    }\n",
       "\n",
       "    .dataframe thead th {\n",
       "        text-align: right;\n",
       "    }\n",
       "</style>\n",
       "<table border=\"1\" class=\"dataframe\">\n",
       "  <thead>\n",
       "    <tr style=\"text-align: right;\">\n",
       "      <th></th>\n",
       "      <th>account length</th>\n",
       "      <th>area code</th>\n",
       "      <th>phone number</th>\n",
       "      <th>international plan</th>\n",
       "      <th>voice mail plan</th>\n",
       "      <th>number vmail messages</th>\n",
       "      <th>total day minutes</th>\n",
       "      <th>total day calls</th>\n",
       "      <th>total day charge</th>\n",
       "      <th>total eve minutes</th>\n",
       "      <th>...</th>\n",
       "      <th>total eve charge</th>\n",
       "      <th>total night minutes</th>\n",
       "      <th>total night calls</th>\n",
       "      <th>total night charge</th>\n",
       "      <th>total intl minutes</th>\n",
       "      <th>total intl calls</th>\n",
       "      <th>total intl charge</th>\n",
       "      <th>customer service calls</th>\n",
       "      <th>churn</th>\n",
       "      <th>Division</th>\n",
       "    </tr>\n",
       "  </thead>\n",
       "  <tbody>\n",
       "    <tr>\n",
       "      <th>0</th>\n",
       "      <td>128</td>\n",
       "      <td>415</td>\n",
       "      <td>382-4657</td>\n",
       "      <td>no</td>\n",
       "      <td>yes</td>\n",
       "      <td>25</td>\n",
       "      <td>265.1</td>\n",
       "      <td>110</td>\n",
       "      <td>45.07</td>\n",
       "      <td>197.4</td>\n",
       "      <td>...</td>\n",
       "      <td>16.78</td>\n",
       "      <td>244.7</td>\n",
       "      <td>91</td>\n",
       "      <td>11.01</td>\n",
       "      <td>10.0</td>\n",
       "      <td>3</td>\n",
       "      <td>2.70</td>\n",
       "      <td>1</td>\n",
       "      <td>False</td>\n",
       "      <td>West North Central</td>\n",
       "    </tr>\n",
       "    <tr>\n",
       "      <th>1</th>\n",
       "      <td>70</td>\n",
       "      <td>408</td>\n",
       "      <td>411-4582</td>\n",
       "      <td>no</td>\n",
       "      <td>no</td>\n",
       "      <td>0</td>\n",
       "      <td>232.1</td>\n",
       "      <td>122</td>\n",
       "      <td>39.46</td>\n",
       "      <td>292.3</td>\n",
       "      <td>...</td>\n",
       "      <td>24.85</td>\n",
       "      <td>201.2</td>\n",
       "      <td>112</td>\n",
       "      <td>9.05</td>\n",
       "      <td>0.0</td>\n",
       "      <td>0</td>\n",
       "      <td>0.00</td>\n",
       "      <td>3</td>\n",
       "      <td>False</td>\n",
       "      <td>West North Central</td>\n",
       "    </tr>\n",
       "    <tr>\n",
       "      <th>2</th>\n",
       "      <td>92</td>\n",
       "      <td>408</td>\n",
       "      <td>386-4170</td>\n",
       "      <td>yes</td>\n",
       "      <td>no</td>\n",
       "      <td>0</td>\n",
       "      <td>62.6</td>\n",
       "      <td>111</td>\n",
       "      <td>10.64</td>\n",
       "      <td>180.6</td>\n",
       "      <td>...</td>\n",
       "      <td>15.35</td>\n",
       "      <td>221.7</td>\n",
       "      <td>80</td>\n",
       "      <td>9.98</td>\n",
       "      <td>10.4</td>\n",
       "      <td>2</td>\n",
       "      <td>2.81</td>\n",
       "      <td>1</td>\n",
       "      <td>True</td>\n",
       "      <td>West North Central</td>\n",
       "    </tr>\n",
       "    <tr>\n",
       "      <th>3</th>\n",
       "      <td>137</td>\n",
       "      <td>408</td>\n",
       "      <td>352-8202</td>\n",
       "      <td>no</td>\n",
       "      <td>no</td>\n",
       "      <td>0</td>\n",
       "      <td>205.9</td>\n",
       "      <td>88</td>\n",
       "      <td>35.00</td>\n",
       "      <td>209.3</td>\n",
       "      <td>...</td>\n",
       "      <td>17.79</td>\n",
       "      <td>289.9</td>\n",
       "      <td>84</td>\n",
       "      <td>13.05</td>\n",
       "      <td>14.5</td>\n",
       "      <td>4</td>\n",
       "      <td>3.92</td>\n",
       "      <td>2</td>\n",
       "      <td>False</td>\n",
       "      <td>West North Central</td>\n",
       "    </tr>\n",
       "    <tr>\n",
       "      <th>4</th>\n",
       "      <td>132</td>\n",
       "      <td>415</td>\n",
       "      <td>369-3214</td>\n",
       "      <td>no</td>\n",
       "      <td>no</td>\n",
       "      <td>0</td>\n",
       "      <td>83.4</td>\n",
       "      <td>110</td>\n",
       "      <td>14.18</td>\n",
       "      <td>232.2</td>\n",
       "      <td>...</td>\n",
       "      <td>19.74</td>\n",
       "      <td>146.7</td>\n",
       "      <td>114</td>\n",
       "      <td>6.60</td>\n",
       "      <td>7.6</td>\n",
       "      <td>5</td>\n",
       "      <td>2.05</td>\n",
       "      <td>1</td>\n",
       "      <td>False</td>\n",
       "      <td>West North Central</td>\n",
       "    </tr>\n",
       "  </tbody>\n",
       "</table>\n",
       "<p>5 rows × 21 columns</p>\n",
       "</div>"
      ],
      "text/plain": [
       "   account length  area code phone number international plan voice mail plan  \\\n",
       "0             128        415     382-4657                 no             yes   \n",
       "1              70        408     411-4582                 no              no   \n",
       "2              92        408     386-4170                yes              no   \n",
       "3             137        408     352-8202                 no              no   \n",
       "4             132        415     369-3214                 no              no   \n",
       "\n",
       "   number vmail messages  total day minutes  total day calls  \\\n",
       "0                     25              265.1              110   \n",
       "1                      0              232.1              122   \n",
       "2                      0               62.6              111   \n",
       "3                      0              205.9               88   \n",
       "4                      0               83.4              110   \n",
       "\n",
       "   total day charge  total eve minutes  ...  total eve charge  \\\n",
       "0             45.07              197.4  ...             16.78   \n",
       "1             39.46              292.3  ...             24.85   \n",
       "2             10.64              180.6  ...             15.35   \n",
       "3             35.00              209.3  ...             17.79   \n",
       "4             14.18              232.2  ...             19.74   \n",
       "\n",
       "   total night minutes  total night calls  total night charge  \\\n",
       "0                244.7                 91               11.01   \n",
       "1                201.2                112                9.05   \n",
       "2                221.7                 80                9.98   \n",
       "3                289.9                 84               13.05   \n",
       "4                146.7                114                6.60   \n",
       "\n",
       "   total intl minutes  total intl calls  total intl charge  \\\n",
       "0                10.0                 3               2.70   \n",
       "1                 0.0                 0               0.00   \n",
       "2                10.4                 2               2.81   \n",
       "3                14.5                 4               3.92   \n",
       "4                 7.6                 5               2.05   \n",
       "\n",
       "   customer service calls  churn            Division  \n",
       "0                       1  False  West North Central  \n",
       "1                       3  False  West North Central  \n",
       "2                       1   True  West North Central  \n",
       "3                       2  False  West North Central  \n",
       "4                       1  False  West North Central  \n",
       "\n",
       "[5 rows x 21 columns]"
      ]
     },
     "execution_count": 18,
     "metadata": {},
     "output_type": "execute_result"
    }
   ],
   "source": [
    "df.head()"
   ]
  },
  {
   "cell_type": "markdown",
   "metadata": {},
   "source": [
    "### Changing International plan to int"
   ]
  },
  {
   "cell_type": "code",
   "execution_count": 19,
   "metadata": {
    "ExecuteTime": {
     "end_time": "2021-02-09T19:19:41.038502Z",
     "start_time": "2021-02-09T19:19:41.032831Z"
    }
   },
   "outputs": [],
   "source": [
    "df['international plan'] = df['international plan'].map(lambda x: 1 if x == 'yes' else 0)"
   ]
  },
  {
   "cell_type": "code",
   "execution_count": 20,
   "metadata": {
    "ExecuteTime": {
     "end_time": "2021-02-09T19:19:41.050158Z",
     "start_time": "2021-02-09T19:19:41.042211Z"
    }
   },
   "outputs": [
    {
     "data": {
      "text/plain": [
       "0    3010\n",
       "1     323\n",
       "Name: international plan, dtype: int64"
      ]
     },
     "execution_count": 20,
     "metadata": {},
     "output_type": "execute_result"
    }
   ],
   "source": [
    "df['international plan'].value_counts()"
   ]
  },
  {
   "cell_type": "markdown",
   "metadata": {},
   "source": [
    "### Changing voice mail plan to int"
   ]
  },
  {
   "cell_type": "code",
   "execution_count": 21,
   "metadata": {
    "ExecuteTime": {
     "end_time": "2021-02-09T19:19:41.056618Z",
     "start_time": "2021-02-09T19:19:41.051810Z"
    }
   },
   "outputs": [],
   "source": [
    "df['voice mail plan'] = df['voice mail plan'].map(lambda x: 1 if x == 'yes' else 0)"
   ]
  },
  {
   "cell_type": "code",
   "execution_count": 22,
   "metadata": {
    "ExecuteTime": {
     "end_time": "2021-02-09T19:19:41.069330Z",
     "start_time": "2021-02-09T19:19:41.065056Z"
    }
   },
   "outputs": [
    {
     "data": {
      "text/plain": [
       "0    2411\n",
       "1     922\n",
       "Name: voice mail plan, dtype: int64"
      ]
     },
     "execution_count": 22,
     "metadata": {},
     "output_type": "execute_result"
    }
   ],
   "source": [
    "df['voice mail plan'].value_counts()"
   ]
  },
  {
   "cell_type": "code",
   "execution_count": 23,
   "metadata": {
    "ExecuteTime": {
     "end_time": "2021-02-09T19:19:41.087334Z",
     "start_time": "2021-02-09T19:19:41.075291Z"
    }
   },
   "outputs": [
    {
     "name": "stdout",
     "output_type": "stream",
     "text": [
      "<class 'pandas.core.frame.DataFrame'>\n",
      "Int64Index: 3333 entries, 0 to 3332\n",
      "Data columns (total 21 columns):\n",
      " #   Column                  Non-Null Count  Dtype  \n",
      "---  ------                  --------------  -----  \n",
      " 0   account length          3333 non-null   int64  \n",
      " 1   area code               3333 non-null   int64  \n",
      " 2   phone number            3333 non-null   object \n",
      " 3   international plan      3333 non-null   int64  \n",
      " 4   voice mail plan         3333 non-null   int64  \n",
      " 5   number vmail messages   3333 non-null   int64  \n",
      " 6   total day minutes       3333 non-null   float64\n",
      " 7   total day calls         3333 non-null   int64  \n",
      " 8   total day charge        3333 non-null   float64\n",
      " 9   total eve minutes       3333 non-null   float64\n",
      " 10  total eve calls         3333 non-null   int64  \n",
      " 11  total eve charge        3333 non-null   float64\n",
      " 12  total night minutes     3333 non-null   float64\n",
      " 13  total night calls       3333 non-null   int64  \n",
      " 14  total night charge      3333 non-null   float64\n",
      " 15  total intl minutes      3333 non-null   float64\n",
      " 16  total intl calls        3333 non-null   int64  \n",
      " 17  total intl charge       3333 non-null   float64\n",
      " 18  customer service calls  3333 non-null   int64  \n",
      " 19  churn                   3333 non-null   bool   \n",
      " 20  Division                3333 non-null   object \n",
      "dtypes: bool(1), float64(8), int64(10), object(2)\n",
      "memory usage: 710.1+ KB\n"
     ]
    }
   ],
   "source": [
    "df.info()"
   ]
  },
  {
   "cell_type": "markdown",
   "metadata": {},
   "source": [
    "### Dropping phone number"
   ]
  },
  {
   "cell_type": "code",
   "execution_count": 24,
   "metadata": {
    "ExecuteTime": {
     "end_time": "2021-02-09T19:19:41.094087Z",
     "start_time": "2021-02-09T19:19:41.089738Z"
    }
   },
   "outputs": [],
   "source": [
    "df.drop(columns=['phone number'], axis = 1, inplace= True)"
   ]
  },
  {
   "cell_type": "code",
   "execution_count": 25,
   "metadata": {
    "ExecuteTime": {
     "end_time": "2021-02-09T19:19:41.105919Z",
     "start_time": "2021-02-09T19:19:41.095950Z"
    }
   },
   "outputs": [
    {
     "name": "stdout",
     "output_type": "stream",
     "text": [
      "<class 'pandas.core.frame.DataFrame'>\n",
      "Int64Index: 3333 entries, 0 to 3332\n",
      "Data columns (total 20 columns):\n",
      " #   Column                  Non-Null Count  Dtype  \n",
      "---  ------                  --------------  -----  \n",
      " 0   account length          3333 non-null   int64  \n",
      " 1   area code               3333 non-null   int64  \n",
      " 2   international plan      3333 non-null   int64  \n",
      " 3   voice mail plan         3333 non-null   int64  \n",
      " 4   number vmail messages   3333 non-null   int64  \n",
      " 5   total day minutes       3333 non-null   float64\n",
      " 6   total day calls         3333 non-null   int64  \n",
      " 7   total day charge        3333 non-null   float64\n",
      " 8   total eve minutes       3333 non-null   float64\n",
      " 9   total eve calls         3333 non-null   int64  \n",
      " 10  total eve charge        3333 non-null   float64\n",
      " 11  total night minutes     3333 non-null   float64\n",
      " 12  total night calls       3333 non-null   int64  \n",
      " 13  total night charge      3333 non-null   float64\n",
      " 14  total intl minutes      3333 non-null   float64\n",
      " 15  total intl calls        3333 non-null   int64  \n",
      " 16  total intl charge       3333 non-null   float64\n",
      " 17  customer service calls  3333 non-null   int64  \n",
      " 18  churn                   3333 non-null   bool   \n",
      " 19  Division                3333 non-null   object \n",
      "dtypes: bool(1), float64(8), int64(10), object(1)\n",
      "memory usage: 684.0+ KB\n"
     ]
    }
   ],
   "source": [
    "df.info()"
   ]
  },
  {
   "cell_type": "markdown",
   "metadata": {},
   "source": [
    "### Dummies for division and final cleaning"
   ]
  },
  {
   "cell_type": "code",
   "execution_count": 26,
   "metadata": {
    "ExecuteTime": {
     "end_time": "2021-02-09T19:19:41.115854Z",
     "start_time": "2021-02-09T19:19:41.110381Z"
    }
   },
   "outputs": [],
   "source": [
    "division_dummies = pd.get_dummies(df['Division'], prefix = 'division')"
   ]
  },
  {
   "cell_type": "code",
   "execution_count": 27,
   "metadata": {
    "ExecuteTime": {
     "end_time": "2021-02-09T19:19:41.128525Z",
     "start_time": "2021-02-09T19:19:41.118336Z"
    }
   },
   "outputs": [
    {
     "name": "stdout",
     "output_type": "stream",
     "text": [
      "<class 'pandas.core.frame.DataFrame'>\n",
      "Int64Index: 3333 entries, 0 to 3332\n",
      "Data columns (total 9 columns):\n",
      " #   Column                       Non-Null Count  Dtype\n",
      "---  ------                       --------------  -----\n",
      " 0   division_East North Central  3333 non-null   uint8\n",
      " 1   division_East South Central  3333 non-null   uint8\n",
      " 2   division_Middle Atlantic     3333 non-null   uint8\n",
      " 3   division_Mountain            3333 non-null   uint8\n",
      " 4   division_New England         3333 non-null   uint8\n",
      " 5   division_Pacific             3333 non-null   uint8\n",
      " 6   division_South Atlantic      3333 non-null   uint8\n",
      " 7   division_West North Central  3333 non-null   uint8\n",
      " 8   division_West South Central  3333 non-null   uint8\n",
      "dtypes: uint8(9)\n",
      "memory usage: 215.3 KB\n"
     ]
    }
   ],
   "source": [
    "division_dummies.info()"
   ]
  },
  {
   "cell_type": "code",
   "execution_count": 29,
   "metadata": {
    "ExecuteTime": {
     "end_time": "2021-02-09T19:20:39.314639Z",
     "start_time": "2021-02-09T19:20:39.310539Z"
    }
   },
   "outputs": [],
   "source": [
    "df_cleaned = pd.concat([df, division_dummies], axis = 1)"
   ]
  },
  {
   "cell_type": "code",
   "execution_count": 31,
   "metadata": {
    "ExecuteTime": {
     "end_time": "2021-02-09T19:20:46.170830Z",
     "start_time": "2021-02-09T19:20:46.161417Z"
    }
   },
   "outputs": [
    {
     "name": "stdout",
     "output_type": "stream",
     "text": [
      "<class 'pandas.core.frame.DataFrame'>\n",
      "Int64Index: 3333 entries, 0 to 3332\n",
      "Data columns (total 29 columns):\n",
      " #   Column                       Non-Null Count  Dtype  \n",
      "---  ------                       --------------  -----  \n",
      " 0   account length               3333 non-null   int64  \n",
      " 1   area code                    3333 non-null   int64  \n",
      " 2   international plan           3333 non-null   int64  \n",
      " 3   voice mail plan              3333 non-null   int64  \n",
      " 4   number vmail messages        3333 non-null   int64  \n",
      " 5   total day minutes            3333 non-null   float64\n",
      " 6   total day calls              3333 non-null   int64  \n",
      " 7   total day charge             3333 non-null   float64\n",
      " 8   total eve minutes            3333 non-null   float64\n",
      " 9   total eve calls              3333 non-null   int64  \n",
      " 10  total eve charge             3333 non-null   float64\n",
      " 11  total night minutes          3333 non-null   float64\n",
      " 12  total night calls            3333 non-null   int64  \n",
      " 13  total night charge           3333 non-null   float64\n",
      " 14  total intl minutes           3333 non-null   float64\n",
      " 15  total intl calls             3333 non-null   int64  \n",
      " 16  total intl charge            3333 non-null   float64\n",
      " 17  customer service calls       3333 non-null   int64  \n",
      " 18  churn                        3333 non-null   bool   \n",
      " 19  Division                     3333 non-null   object \n",
      " 20  division_East North Central  3333 non-null   uint8  \n",
      " 21  division_East South Central  3333 non-null   uint8  \n",
      " 22  division_Middle Atlantic     3333 non-null   uint8  \n",
      " 23  division_Mountain            3333 non-null   uint8  \n",
      " 24  division_New England         3333 non-null   uint8  \n",
      " 25  division_Pacific             3333 non-null   uint8  \n",
      " 26  division_South Atlantic      3333 non-null   uint8  \n",
      " 27  division_West North Central  3333 non-null   uint8  \n",
      " 28  division_West South Central  3333 non-null   uint8  \n",
      "dtypes: bool(1), float64(8), int64(10), object(1), uint8(9)\n",
      "memory usage: 713.3+ KB\n"
     ]
    }
   ],
   "source": [
    "df_cleaned.info()"
   ]
  },
  {
   "cell_type": "code",
   "execution_count": 32,
   "metadata": {
    "ExecuteTime": {
     "end_time": "2021-02-09T19:20:54.811519Z",
     "start_time": "2021-02-09T19:20:54.797341Z"
    }
   },
   "outputs": [
    {
     "data": {
      "text/html": [
       "<div>\n",
       "<style scoped>\n",
       "    .dataframe tbody tr th:only-of-type {\n",
       "        vertical-align: middle;\n",
       "    }\n",
       "\n",
       "    .dataframe tbody tr th {\n",
       "        vertical-align: top;\n",
       "    }\n",
       "\n",
       "    .dataframe thead th {\n",
       "        text-align: right;\n",
       "    }\n",
       "</style>\n",
       "<table border=\"1\" class=\"dataframe\">\n",
       "  <thead>\n",
       "    <tr style=\"text-align: right;\">\n",
       "      <th></th>\n",
       "      <th>account length</th>\n",
       "      <th>area code</th>\n",
       "      <th>international plan</th>\n",
       "      <th>voice mail plan</th>\n",
       "      <th>number vmail messages</th>\n",
       "      <th>total day minutes</th>\n",
       "      <th>total day calls</th>\n",
       "      <th>total day charge</th>\n",
       "      <th>total eve minutes</th>\n",
       "      <th>total eve calls</th>\n",
       "      <th>...</th>\n",
       "      <th>Division</th>\n",
       "      <th>division_East North Central</th>\n",
       "      <th>division_East South Central</th>\n",
       "      <th>division_Middle Atlantic</th>\n",
       "      <th>division_Mountain</th>\n",
       "      <th>division_New England</th>\n",
       "      <th>division_Pacific</th>\n",
       "      <th>division_South Atlantic</th>\n",
       "      <th>division_West North Central</th>\n",
       "      <th>division_West South Central</th>\n",
       "    </tr>\n",
       "  </thead>\n",
       "  <tbody>\n",
       "    <tr>\n",
       "      <th>0</th>\n",
       "      <td>128</td>\n",
       "      <td>415</td>\n",
       "      <td>0</td>\n",
       "      <td>1</td>\n",
       "      <td>25</td>\n",
       "      <td>265.1</td>\n",
       "      <td>110</td>\n",
       "      <td>45.07</td>\n",
       "      <td>197.4</td>\n",
       "      <td>99</td>\n",
       "      <td>...</td>\n",
       "      <td>West North Central</td>\n",
       "      <td>0</td>\n",
       "      <td>0</td>\n",
       "      <td>0</td>\n",
       "      <td>0</td>\n",
       "      <td>0</td>\n",
       "      <td>0</td>\n",
       "      <td>0</td>\n",
       "      <td>1</td>\n",
       "      <td>0</td>\n",
       "    </tr>\n",
       "    <tr>\n",
       "      <th>1</th>\n",
       "      <td>70</td>\n",
       "      <td>408</td>\n",
       "      <td>0</td>\n",
       "      <td>0</td>\n",
       "      <td>0</td>\n",
       "      <td>232.1</td>\n",
       "      <td>122</td>\n",
       "      <td>39.46</td>\n",
       "      <td>292.3</td>\n",
       "      <td>112</td>\n",
       "      <td>...</td>\n",
       "      <td>West North Central</td>\n",
       "      <td>0</td>\n",
       "      <td>0</td>\n",
       "      <td>0</td>\n",
       "      <td>0</td>\n",
       "      <td>0</td>\n",
       "      <td>0</td>\n",
       "      <td>0</td>\n",
       "      <td>1</td>\n",
       "      <td>0</td>\n",
       "    </tr>\n",
       "    <tr>\n",
       "      <th>2</th>\n",
       "      <td>92</td>\n",
       "      <td>408</td>\n",
       "      <td>1</td>\n",
       "      <td>0</td>\n",
       "      <td>0</td>\n",
       "      <td>62.6</td>\n",
       "      <td>111</td>\n",
       "      <td>10.64</td>\n",
       "      <td>180.6</td>\n",
       "      <td>126</td>\n",
       "      <td>...</td>\n",
       "      <td>West North Central</td>\n",
       "      <td>0</td>\n",
       "      <td>0</td>\n",
       "      <td>0</td>\n",
       "      <td>0</td>\n",
       "      <td>0</td>\n",
       "      <td>0</td>\n",
       "      <td>0</td>\n",
       "      <td>1</td>\n",
       "      <td>0</td>\n",
       "    </tr>\n",
       "    <tr>\n",
       "      <th>3</th>\n",
       "      <td>137</td>\n",
       "      <td>408</td>\n",
       "      <td>0</td>\n",
       "      <td>0</td>\n",
       "      <td>0</td>\n",
       "      <td>205.9</td>\n",
       "      <td>88</td>\n",
       "      <td>35.00</td>\n",
       "      <td>209.3</td>\n",
       "      <td>86</td>\n",
       "      <td>...</td>\n",
       "      <td>West North Central</td>\n",
       "      <td>0</td>\n",
       "      <td>0</td>\n",
       "      <td>0</td>\n",
       "      <td>0</td>\n",
       "      <td>0</td>\n",
       "      <td>0</td>\n",
       "      <td>0</td>\n",
       "      <td>1</td>\n",
       "      <td>0</td>\n",
       "    </tr>\n",
       "    <tr>\n",
       "      <th>4</th>\n",
       "      <td>132</td>\n",
       "      <td>415</td>\n",
       "      <td>0</td>\n",
       "      <td>0</td>\n",
       "      <td>0</td>\n",
       "      <td>83.4</td>\n",
       "      <td>110</td>\n",
       "      <td>14.18</td>\n",
       "      <td>232.2</td>\n",
       "      <td>137</td>\n",
       "      <td>...</td>\n",
       "      <td>West North Central</td>\n",
       "      <td>0</td>\n",
       "      <td>0</td>\n",
       "      <td>0</td>\n",
       "      <td>0</td>\n",
       "      <td>0</td>\n",
       "      <td>0</td>\n",
       "      <td>0</td>\n",
       "      <td>1</td>\n",
       "      <td>0</td>\n",
       "    </tr>\n",
       "  </tbody>\n",
       "</table>\n",
       "<p>5 rows × 29 columns</p>\n",
       "</div>"
      ],
      "text/plain": [
       "   account length  area code  international plan  voice mail plan  \\\n",
       "0             128        415                   0                1   \n",
       "1              70        408                   0                0   \n",
       "2              92        408                   1                0   \n",
       "3             137        408                   0                0   \n",
       "4             132        415                   0                0   \n",
       "\n",
       "   number vmail messages  total day minutes  total day calls  \\\n",
       "0                     25              265.1              110   \n",
       "1                      0              232.1              122   \n",
       "2                      0               62.6              111   \n",
       "3                      0              205.9               88   \n",
       "4                      0               83.4              110   \n",
       "\n",
       "   total day charge  total eve minutes  total eve calls  ...  \\\n",
       "0             45.07              197.4               99  ...   \n",
       "1             39.46              292.3              112  ...   \n",
       "2             10.64              180.6              126  ...   \n",
       "3             35.00              209.3               86  ...   \n",
       "4             14.18              232.2              137  ...   \n",
       "\n",
       "             Division  division_East North Central  \\\n",
       "0  West North Central                            0   \n",
       "1  West North Central                            0   \n",
       "2  West North Central                            0   \n",
       "3  West North Central                            0   \n",
       "4  West North Central                            0   \n",
       "\n",
       "   division_East South Central  division_Middle Atlantic  division_Mountain  \\\n",
       "0                            0                         0                  0   \n",
       "1                            0                         0                  0   \n",
       "2                            0                         0                  0   \n",
       "3                            0                         0                  0   \n",
       "4                            0                         0                  0   \n",
       "\n",
       "   division_New England  division_Pacific  division_South Atlantic  \\\n",
       "0                     0                 0                        0   \n",
       "1                     0                 0                        0   \n",
       "2                     0                 0                        0   \n",
       "3                     0                 0                        0   \n",
       "4                     0                 0                        0   \n",
       "\n",
       "   division_West North Central division_West South Central  \n",
       "0                            1                           0  \n",
       "1                            1                           0  \n",
       "2                            1                           0  \n",
       "3                            1                           0  \n",
       "4                            1                           0  \n",
       "\n",
       "[5 rows x 29 columns]"
      ]
     },
     "execution_count": 32,
     "metadata": {},
     "output_type": "execute_result"
    }
   ],
   "source": [
    "df_cleaned.head()"
   ]
  },
  {
   "cell_type": "code",
   "execution_count": 33,
   "metadata": {
    "ExecuteTime": {
     "end_time": "2021-02-09T19:21:31.452577Z",
     "start_time": "2021-02-09T19:21:31.449370Z"
    }
   },
   "outputs": [],
   "source": [
    "df_cleaned.drop(columns=['Division'], axis = 1, inplace= True)"
   ]
  },
  {
   "cell_type": "code",
   "execution_count": 34,
   "metadata": {
    "ExecuteTime": {
     "end_time": "2021-02-09T19:21:40.130670Z",
     "start_time": "2021-02-09T19:21:40.123236Z"
    }
   },
   "outputs": [
    {
     "name": "stdout",
     "output_type": "stream",
     "text": [
      "<class 'pandas.core.frame.DataFrame'>\n",
      "Int64Index: 3333 entries, 0 to 3332\n",
      "Data columns (total 28 columns):\n",
      " #   Column                       Non-Null Count  Dtype  \n",
      "---  ------                       --------------  -----  \n",
      " 0   account length               3333 non-null   int64  \n",
      " 1   area code                    3333 non-null   int64  \n",
      " 2   international plan           3333 non-null   int64  \n",
      " 3   voice mail plan              3333 non-null   int64  \n",
      " 4   number vmail messages        3333 non-null   int64  \n",
      " 5   total day minutes            3333 non-null   float64\n",
      " 6   total day calls              3333 non-null   int64  \n",
      " 7   total day charge             3333 non-null   float64\n",
      " 8   total eve minutes            3333 non-null   float64\n",
      " 9   total eve calls              3333 non-null   int64  \n",
      " 10  total eve charge             3333 non-null   float64\n",
      " 11  total night minutes          3333 non-null   float64\n",
      " 12  total night calls            3333 non-null   int64  \n",
      " 13  total night charge           3333 non-null   float64\n",
      " 14  total intl minutes           3333 non-null   float64\n",
      " 15  total intl calls             3333 non-null   int64  \n",
      " 16  total intl charge            3333 non-null   float64\n",
      " 17  customer service calls       3333 non-null   int64  \n",
      " 18  churn                        3333 non-null   bool   \n",
      " 19  division_East North Central  3333 non-null   uint8  \n",
      " 20  division_East South Central  3333 non-null   uint8  \n",
      " 21  division_Middle Atlantic     3333 non-null   uint8  \n",
      " 22  division_Mountain            3333 non-null   uint8  \n",
      " 23  division_New England         3333 non-null   uint8  \n",
      " 24  division_Pacific             3333 non-null   uint8  \n",
      " 25  division_South Atlantic      3333 non-null   uint8  \n",
      " 26  division_West North Central  3333 non-null   uint8  \n",
      " 27  division_West South Central  3333 non-null   uint8  \n",
      "dtypes: bool(1), float64(8), int64(10), uint8(9)\n",
      "memory usage: 687.3 KB\n"
     ]
    }
   ],
   "source": [
    "df_cleaned.info()"
   ]
  },
  {
   "cell_type": "code",
   "execution_count": 38,
   "metadata": {
    "ExecuteTime": {
     "end_time": "2021-02-09T19:24:48.872053Z",
     "start_time": "2021-02-09T19:24:48.831223Z"
    }
   },
   "outputs": [],
   "source": [
    "df_cleaned.to_csv('cleaned_churn_data.csv')"
   ]
  },
  {
   "cell_type": "markdown",
   "metadata": {},
   "source": [
    "## EDA"
   ]
  },
  {
   "cell_type": "markdown",
   "metadata": {},
   "source": [
    "### Checking the class imbalance"
   ]
  },
  {
   "cell_type": "code",
   "execution_count": 46,
   "metadata": {
    "ExecuteTime": {
     "end_time": "2021-02-09T19:34:06.107892Z",
     "start_time": "2021-02-09T19:34:06.016115Z"
    }
   },
   "outputs": [
    {
     "data": {
      "text/plain": [
       "<AxesSubplot:xlabel='churn', ylabel='count'>"
      ]
     },
     "execution_count": 46,
     "metadata": {},
     "output_type": "execute_result"
    },
    {
     "data": {
      "image/png": "[encoded data removed]",
      "text/plain": [
       "<Figure size 432x288 with 1 Axes>"
      ]
     },
     "metadata": {
      "needs_background": "light"
     },
     "output_type": "display_data"
    }
   ],
   "source": [
    "sns.countplot(x = 'churn', data = df_cleaned)"
   ]
  },
  {
   "cell_type": "markdown",
   "metadata": {},
   "source": [
    "### Plotting international plan vs churn"
   ]
  },
  {
   "cell_type": "code",
   "execution_count": 39,
   "metadata": {
    "ExecuteTime": {
     "end_time": "2021-02-09T19:26:38.259986Z",
     "start_time": "2021-02-09T19:26:38.135651Z"
    }
   },
   "outputs": [
    {
     "data": {
      "text/plain": [
       "<AxesSubplot:xlabel='international plan', ylabel='count'>"
      ]
     },
     "execution_count": 39,
     "metadata": {},
     "output_type": "execute_result"
    },
    {
     "data": {
      "image/png": "[encoded data removed]",
      "text/plain": [
       "<Figure size 432x288 with 1 Axes>"
      ]
     },
     "metadata": {
      "needs_background": "light"
     },
     "output_type": "display_data"
    }
   ],
   "source": [
    "sns.countplot(x = 'international plan', data = df_cleaned, hue = 'churn')"
   ]
  },
  {
   "cell_type": "markdown",
   "metadata": {},
   "source": [
    "### Plotting customer service calls vs churn"
   ]
  },
  {
   "cell_type": "code",
   "execution_count": 40,
   "metadata": {
    "ExecuteTime": {
     "end_time": "2021-02-09T19:27:43.311556Z",
     "start_time": "2021-02-09T19:27:43.104389Z"
    }
   },
   "outputs": [
    {
     "data": {
      "text/plain": [
       "<AxesSubplot:xlabel='customer service calls', ylabel='count'>"
      ]
     },
     "execution_count": 40,
     "metadata": {},
     "output_type": "execute_result"
    },
    {
     "data": {
      "image/png": "[encoded data removed]",
      "text/plain": [
       "<Figure size 432x288 with 1 Axes>"
      ]
     },
     "metadata": {
      "needs_background": "light"
     },
     "output_type": "display_data"
    }
   ],
   "source": [
    "sns.countplot(x = 'customer service calls', data = df_cleaned, hue = 'churn')"
   ]
  },
  {
   "cell_type": "markdown",
   "metadata": {},
   "source": [
    "We can clearly see that as the <b>number of customer service calls start increasing the percent of customers churning starts to increase as well</b>. Due to the nature of the data, we will need to investigate this separately"
   ]
  },
  {
   "cell_type": "code",
   "execution_count": 47,
   "metadata": {
    "ExecuteTime": {
     "end_time": "2021-02-09T19:35:21.149034Z",
     "start_time": "2021-02-09T19:35:20.999034Z"
    }
   },
   "outputs": [
    {
     "data": {
      "text/plain": [
       "<AxesSubplot:xlabel='customer service calls', ylabel='count'>"
      ]
     },
     "execution_count": 47,
     "metadata": {},
     "output_type": "execute_result"
    },
    {
     "data": {
      "image/png": "[encoded data removed]",
      "text/plain": [
       "<Figure size 432x288 with 1 Axes>"
      ]
     },
     "metadata": {
      "needs_background": "light"
     },
     "output_type": "display_data"
    }
   ],
   "source": [
    "sns.countplot(x = 'customer service calls', \n",
    "              data = df_cleaned[df_cleaned['customer service calls'] > 3], \n",
    "              hue = 'churn')"
   ]
  },
  {
   "cell_type": "markdown",
   "metadata": {},
   "source": [
    "### Customer churn by geographic region"
   ]
  },
  {
   "cell_type": "markdown",
   "metadata": {
    "ExecuteTime": {
     "end_time": "2021-02-09T19:31:42.577105Z",
     "start_time": "2021-02-09T19:31:42.572710Z"
    }
   },
   "source": [
    "We can see that the churn increases significantly beyond 5 calls to customer service. Unfortunately we don't have enough data to get any good insights here"
   ]
  },
  {
   "cell_type": "code",
   "execution_count": 54,
   "metadata": {
    "ExecuteTime": {
     "end_time": "2021-02-09T19:42:23.190391Z",
     "start_time": "2021-02-09T19:42:23.001698Z"
    },
    "scrolled": true
   },
   "outputs": [
    {
     "data": {
      "text/plain": [
       "<AxesSubplot:xlabel='count', ylabel='Division'>"
      ]
     },
     "execution_count": 54,
     "metadata": {},
     "output_type": "execute_result"
    },
    {
     "data": {
      "image/png": "[encoded data removed]",
      "text/plain": [
       "<Figure size 432x288 with 1 Axes>"
      ]
     },
     "metadata": {
      "needs_background": "light"
     },
     "output_type": "display_data"
    }
   ],
   "source": [
    "sns.countplot(y = 'Division', data = df, hue = 'churn')"
   ]
  },
  {
   "cell_type": "code",
   "execution_count": 61,
   "metadata": {
    "ExecuteTime": {
     "end_time": "2021-02-09T19:46:54.944625Z",
     "start_time": "2021-02-09T19:46:54.919376Z"
    }
   },
   "outputs": [],
   "source": [
    "df_division_grouped = df.groupby('Division').agg(['sum', 'count'])"
   ]
  },
  {
   "cell_type": "code",
   "execution_count": 64,
   "metadata": {
    "ExecuteTime": {
     "end_time": "2021-02-09T19:48:27.120595Z",
     "start_time": "2021-02-09T19:48:27.117662Z"
    }
   },
   "outputs": [],
   "source": [
    "df_division_grouped = df_division_grouped.reset_index()"
   ]
  },
  {
   "cell_type": "code",
   "execution_count": 68,
   "metadata": {
    "ExecuteTime": {
     "end_time": "2021-02-09T19:49:36.201101Z",
     "start_time": "2021-02-09T19:49:36.188274Z"
    }
   },
   "outputs": [
    {
     "name": "stdout",
     "output_type": "stream",
     "text": [
      "<class 'pandas.core.frame.DataFrame'>\n",
      "RangeIndex: 9 entries, 0 to 8\n",
      "Data columns (total 39 columns):\n",
      " #   Column                           Non-Null Count  Dtype  \n",
      "---  ------                           --------------  -----  \n",
      " 0   (Division, )                     9 non-null      object \n",
      " 1   (account length, sum)            9 non-null      int64  \n",
      " 2   (account length, count)          9 non-null      int64  \n",
      " 3   (area code, sum)                 9 non-null      int64  \n",
      " 4   (area code, count)               9 non-null      int64  \n",
      " 5   (international plan, sum)        9 non-null      int64  \n",
      " 6   (international plan, count)      9 non-null      int64  \n",
      " 7   (voice mail plan, sum)           9 non-null      int64  \n",
      " 8   (voice mail plan, count)         9 non-null      int64  \n",
      " 9   (number vmail messages, sum)     9 non-null      int64  \n",
      " 10  (number vmail messages, count)   9 non-null      int64  \n",
      " 11  (total day minutes, sum)         9 non-null      float64\n",
      " 12  (total day minutes, count)       9 non-null      int64  \n",
      " 13  (total day calls, sum)           9 non-null      int64  \n",
      " 14  (total day calls, count)         9 non-null      int64  \n",
      " 15  (total day charge, sum)          9 non-null      float64\n",
      " 16  (total day charge, count)        9 non-null      int64  \n",
      " 17  (total eve minutes, sum)         9 non-null      float64\n",
      " 18  (total eve minutes, count)       9 non-null      int64  \n",
      " 19  (total eve calls, sum)           9 non-null      int64  \n",
      " 20  (total eve calls, count)         9 non-null      int64  \n",
      " 21  (total eve charge, sum)          9 non-null      float64\n",
      " 22  (total eve charge, count)        9 non-null      int64  \n",
      " 23  (total night minutes, sum)       9 non-null      float64\n",
      " 24  (total night minutes, count)     9 non-null      int64  \n",
      " 25  (total night calls, sum)         9 non-null      int64  \n",
      " 26  (total night calls, count)       9 non-null      int64  \n",
      " 27  (total night charge, sum)        9 non-null      float64\n",
      " 28  (total night charge, count)      9 non-null      int64  \n",
      " 29  (total intl minutes, sum)        9 non-null      float64\n",
      " 30  (total intl minutes, count)      9 non-null      int64  \n",
      " 31  (total intl calls, sum)          9 non-null      int64  \n",
      " 32  (total intl calls, count)        9 non-null      int64  \n",
      " 33  (total intl charge, sum)         9 non-null      float64\n",
      " 34  (total intl charge, count)       9 non-null      int64  \n",
      " 35  (customer service calls, sum)    9 non-null      int64  \n",
      " 36  (customer service calls, count)  9 non-null      int64  \n",
      " 37  (churn, sum)                     9 non-null      int64  \n",
      " 38  (churn, count)                   9 non-null      int64  \n",
      "dtypes: float64(8), int64(30), object(1)\n",
      "memory usage: 2.9+ KB\n"
     ]
    }
   ],
   "source": [
    "df_division_grouped.info()"
   ]
  },
  {
   "cell_type": "code",
   "execution_count": 65,
   "metadata": {
    "ExecuteTime": {
     "end_time": "2021-02-09T19:48:34.486207Z",
     "start_time": "2021-02-09T19:48:34.465996Z"
    }
   },
   "outputs": [
    {
     "data": {
      "text/html": [
       "<div>\n",
       "<style scoped>\n",
       "    .dataframe tbody tr th:only-of-type {\n",
       "        vertical-align: middle;\n",
       "    }\n",
       "\n",
       "    .dataframe tbody tr th {\n",
       "        vertical-align: top;\n",
       "    }\n",
       "\n",
       "    .dataframe thead tr th {\n",
       "        text-align: left;\n",
       "    }\n",
       "</style>\n",
       "<table border=\"1\" class=\"dataframe\">\n",
       "  <thead>\n",
       "    <tr>\n",
       "      <th></th>\n",
       "      <th>Division</th>\n",
       "      <th colspan=\"2\" halign=\"left\">account length</th>\n",
       "      <th colspan=\"2\" halign=\"left\">area code</th>\n",
       "      <th colspan=\"2\" halign=\"left\">international plan</th>\n",
       "      <th colspan=\"2\" halign=\"left\">voice mail plan</th>\n",
       "      <th>number vmail messages</th>\n",
       "      <th>...</th>\n",
       "      <th colspan=\"2\" halign=\"left\">total intl minutes</th>\n",
       "      <th colspan=\"2\" halign=\"left\">total intl calls</th>\n",
       "      <th colspan=\"2\" halign=\"left\">total intl charge</th>\n",
       "      <th colspan=\"2\" halign=\"left\">customer service calls</th>\n",
       "      <th colspan=\"2\" halign=\"left\">churn</th>\n",
       "    </tr>\n",
       "    <tr>\n",
       "      <th></th>\n",
       "      <th></th>\n",
       "      <th>sum</th>\n",
       "      <th>count</th>\n",
       "      <th>sum</th>\n",
       "      <th>count</th>\n",
       "      <th>sum</th>\n",
       "      <th>count</th>\n",
       "      <th>sum</th>\n",
       "      <th>count</th>\n",
       "      <th>sum</th>\n",
       "      <th>...</th>\n",
       "      <th>sum</th>\n",
       "      <th>count</th>\n",
       "      <th>sum</th>\n",
       "      <th>count</th>\n",
       "      <th>sum</th>\n",
       "      <th>count</th>\n",
       "      <th>sum</th>\n",
       "      <th>count</th>\n",
       "      <th>sum</th>\n",
       "      <th>count</th>\n",
       "    </tr>\n",
       "  </thead>\n",
       "  <tbody>\n",
       "    <tr>\n",
       "      <th>0</th>\n",
       "      <td>East North Central</td>\n",
       "      <td>35786</td>\n",
       "      <td>358</td>\n",
       "      <td>156877</td>\n",
       "      <td>358</td>\n",
       "      <td>44</td>\n",
       "      <td>358</td>\n",
       "      <td>104</td>\n",
       "      <td>358</td>\n",
       "      <td>3071</td>\n",
       "      <td>...</td>\n",
       "      <td>3645.0</td>\n",
       "      <td>358</td>\n",
       "      <td>1551</td>\n",
       "      <td>358</td>\n",
       "      <td>984.32</td>\n",
       "      <td>358</td>\n",
       "      <td>522</td>\n",
       "      <td>358</td>\n",
       "      <td>47</td>\n",
       "      <td>358</td>\n",
       "    </tr>\n",
       "    <tr>\n",
       "      <th>1</th>\n",
       "      <td>East South Central</td>\n",
       "      <td>24668</td>\n",
       "      <td>257</td>\n",
       "      <td>111703</td>\n",
       "      <td>257</td>\n",
       "      <td>26</td>\n",
       "      <td>257</td>\n",
       "      <td>71</td>\n",
       "      <td>257</td>\n",
       "      <td>1974</td>\n",
       "      <td>...</td>\n",
       "      <td>2691.5</td>\n",
       "      <td>257</td>\n",
       "      <td>1155</td>\n",
       "      <td>257</td>\n",
       "      <td>726.77</td>\n",
       "      <td>257</td>\n",
       "      <td>406</td>\n",
       "      <td>257</td>\n",
       "      <td>35</td>\n",
       "      <td>257</td>\n",
       "    </tr>\n",
       "    <tr>\n",
       "      <th>2</th>\n",
       "      <td>Middle Atlantic</td>\n",
       "      <td>19854</td>\n",
       "      <td>196</td>\n",
       "      <td>85564</td>\n",
       "      <td>196</td>\n",
       "      <td>20</td>\n",
       "      <td>196</td>\n",
       "      <td>50</td>\n",
       "      <td>196</td>\n",
       "      <td>1471</td>\n",
       "      <td>...</td>\n",
       "      <td>2035.9</td>\n",
       "      <td>196</td>\n",
       "      <td>878</td>\n",
       "      <td>196</td>\n",
       "      <td>549.76</td>\n",
       "      <td>196</td>\n",
       "      <td>313</td>\n",
       "      <td>196</td>\n",
       "      <td>41</td>\n",
       "      <td>196</td>\n",
       "    </tr>\n",
       "    <tr>\n",
       "      <th>3</th>\n",
       "      <td>Mountain</td>\n",
       "      <td>55795</td>\n",
       "      <td>548</td>\n",
       "      <td>239159</td>\n",
       "      <td>548</td>\n",
       "      <td>45</td>\n",
       "      <td>548</td>\n",
       "      <td>156</td>\n",
       "      <td>548</td>\n",
       "      <td>4502</td>\n",
       "      <td>...</td>\n",
       "      <td>5661.3</td>\n",
       "      <td>548</td>\n",
       "      <td>2526</td>\n",
       "      <td>548</td>\n",
       "      <td>1528.78</td>\n",
       "      <td>548</td>\n",
       "      <td>867</td>\n",
       "      <td>548</td>\n",
       "      <td>75</td>\n",
       "      <td>548</td>\n",
       "    </tr>\n",
       "    <tr>\n",
       "      <th>4</th>\n",
       "      <td>New England</td>\n",
       "      <td>39305</td>\n",
       "      <td>395</td>\n",
       "      <td>172335</td>\n",
       "      <td>395</td>\n",
       "      <td>42</td>\n",
       "      <td>395</td>\n",
       "      <td>107</td>\n",
       "      <td>395</td>\n",
       "      <td>3092</td>\n",
       "      <td>...</td>\n",
       "      <td>3956.0</td>\n",
       "      <td>395</td>\n",
       "      <td>1780</td>\n",
       "      <td>395</td>\n",
       "      <td>1068.27</td>\n",
       "      <td>395</td>\n",
       "      <td>603</td>\n",
       "      <td>395</td>\n",
       "      <td>59</td>\n",
       "      <td>395</td>\n",
       "    </tr>\n",
       "  </tbody>\n",
       "</table>\n",
       "<p>5 rows × 39 columns</p>\n",
       "</div>"
      ],
      "text/plain": [
       "             Division account length       area code       international plan  \\\n",
       "                                 sum count       sum count                sum   \n",
       "0  East North Central          35786   358    156877   358                 44   \n",
       "1  East South Central          24668   257    111703   257                 26   \n",
       "2     Middle Atlantic          19854   196     85564   196                 20   \n",
       "3            Mountain          55795   548    239159   548                 45   \n",
       "4         New England          39305   395    172335   395                 42   \n",
       "\n",
       "        voice mail plan       number vmail messages  ... total intl minutes  \\\n",
       "  count             sum count                   sum  ...                sum   \n",
       "0   358             104   358                  3071  ...             3645.0   \n",
       "1   257              71   257                  1974  ...             2691.5   \n",
       "2   196              50   196                  1471  ...             2035.9   \n",
       "3   548             156   548                  4502  ...             5661.3   \n",
       "4   395             107   395                  3092  ...             3956.0   \n",
       "\n",
       "        total intl calls       total intl charge       customer service calls  \\\n",
       "  count              sum count               sum count                    sum   \n",
       "0   358             1551   358            984.32   358                    522   \n",
       "1   257             1155   257            726.77   257                    406   \n",
       "2   196              878   196            549.76   196                    313   \n",
       "3   548             2526   548           1528.78   548                    867   \n",
       "4   395             1780   395           1068.27   395                    603   \n",
       "\n",
       "        churn        \n",
       "  count   sum count  \n",
       "0   358    47   358  \n",
       "1   257    35   257  \n",
       "2   196    41   196  \n",
       "3   548    75   548  \n",
       "4   395    59   395  \n",
       "\n",
       "[5 rows x 39 columns]"
      ]
     },
     "execution_count": 65,
     "metadata": {},
     "output_type": "execute_result"
    }
   ],
   "source": [
    "df_division_grouped.head()"
   ]
  },
  {
   "cell_type": "code",
   "execution_count": null,
   "metadata": {},
   "outputs": [],
   "source": []
  },
  {
   "cell_type": "code",
   "execution_count": null,
   "metadata": {},
   "outputs": [],
   "source": [
    "df_division_grouped.pivot(index = 'Division', )"
   ]
  }
 ],
 "metadata": {
  "kernelspec": {
   "display_name": "Python 3",
   "language": "python",
   "name": "python3"
  },
  "language_info": {
   "codemirror_mode": {
    "name": "ipython",
    "version": 3
   },
   "file_extension": ".py",
   "mimetype": "text/x-python",
   "name": "python",
   "nbconvert_exporter": "python",
   "pygments_lexer": "ipython3",
   "version": "3.8.6"
  },
  "toc": {
   "base_numbering": 1,
   "nav_menu": {},
   "number_sections": true,
   "sideBar": true,
   "skip_h1_title": false,
   "title_cell": "Table of Contents",
   "title_sidebar": "Contents",
   "toc_cell": false,
   "toc_position": {},
   "toc_section_display": true,
   "toc_window_display": false
  },
  "varInspector": {
   "cols": {
    "lenName": 16,
    "lenType": 16,
    "lenVar": 40
   },
   "kernels_config": {
    "python": {
     "delete_cmd_postfix": "",
     "delete_cmd_prefix": "del ",
     "library": "var_list.py",
     "varRefreshCmd": "print(var_dic_list())"
    },
    "r": {
     "delete_cmd_postfix": ") ",
     "delete_cmd_prefix": "rm(",
     "library": "var_list.r",
     "varRefreshCmd": "cat(var_dic_list()) "
    }
   },
   "types_to_exclude": [
    "module",
    "function",
    "builtin_function_or_method",
    "instance",
    "_Feature"
   ],
   "window_display": false
  }
 },
 "nbformat": 4,
 "nbformat_minor": 4
}
