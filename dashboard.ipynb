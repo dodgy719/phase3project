{
 "cells": [
  {
   "cell_type": "code",
   "execution_count": 1,
   "metadata": {
    "ExecuteTime": {
     "end_time": "2021-04-02T15:57:17.063785Z",
     "start_time": "2021-04-02T15:57:16.428585Z"
    }
   },
   "outputs": [],
   "source": [
    "import dash\n",
    "import dash_core_components as dcc\n",
    "import dash_html_components as html\n",
    "import pandas as pd\n",
    "import plotly.graph_objs as go\n",
    "from dash.dependencies import Input, Output"
   ]
  },
  {
   "cell_type": "code",
   "execution_count": 1,
   "metadata": {
    "ExecuteTime": {
     "end_time": "2021-04-06T15:48:35.592280Z",
     "start_time": "2021-04-06T15:48:35.380296Z"
    }
   },
   "outputs": [
    {
     "ename": "NameError",
     "evalue": "name 'python' is not defined",
     "output_type": "error",
     "traceback": [
      "\u001b[0;31m---------------------------------------------------------------------------\u001b[0m",
      "\u001b[0;31mNameError\u001b[0m                                 Traceback (most recent call last)",
      "\u001b[0;32m<ipython-input-1-45a3ce2a2cc7>\u001b[0m in \u001b[0;36m<module>\u001b[0;34m\u001b[0m\n\u001b[0;32m----> 1\u001b[0;31m \u001b[0mpython\u001b[0m\u001b[0;34m.\u001b[0m\u001b[0m__version__\u001b[0m\u001b[0;34m\u001b[0m\u001b[0;34m\u001b[0m\u001b[0m\n\u001b[0m",
      "\u001b[0;31mNameError\u001b[0m: name 'python' is not defined"
     ]
    }
   ],
   "source": [
    "python.__version__"
   ]
  },
  {
   "cell_type": "code",
   "execution_count": 2,
   "metadata": {
    "ExecuteTime": {
     "end_time": "2021-04-02T15:57:17.140860Z",
     "start_time": "2021-04-02T15:57:17.126192Z"
    }
   },
   "outputs": [],
   "source": [
    "app = dash.Dash()"
   ]
  },
  {
   "cell_type": "code",
   "execution_count": 3,
   "metadata": {
    "ExecuteTime": {
     "end_time": "2021-04-02T15:57:17.197636Z",
     "start_time": "2021-04-02T15:57:17.194880Z"
    }
   },
   "outputs": [],
   "source": [
    "server = app.server"
   ]
  },
  {
   "cell_type": "code",
   "execution_count": 4,
   "metadata": {
    "ExecuteTime": {
     "end_time": "2021-04-02T15:57:17.323579Z",
     "start_time": "2021-04-02T15:57:17.300490Z"
    }
   },
   "outputs": [],
   "source": [
    "df = pd.read_csv('cleaned_churn_data.csv')"
   ]
  },
  {
   "cell_type": "code",
   "execution_count": 5,
   "metadata": {
    "ExecuteTime": {
     "end_time": "2021-04-02T15:57:17.525524Z",
     "start_time": "2021-04-02T15:57:17.513738Z"
    }
   },
   "outputs": [
    {
     "name": "stdout",
     "output_type": "stream",
     "text": [
      "<class 'pandas.core.frame.DataFrame'>\n",
      "RangeIndex: 3333 entries, 0 to 3332\n",
      "Data columns (total 29 columns):\n",
      " #   Column                       Non-Null Count  Dtype  \n",
      "---  ------                       --------------  -----  \n",
      " 0   Unnamed: 0                   3333 non-null   int64  \n",
      " 1   account length               3333 non-null   int64  \n",
      " 2   area code                    3333 non-null   int64  \n",
      " 3   international plan           3333 non-null   int64  \n",
      " 4   voice mail plan              3333 non-null   int64  \n",
      " 5   number vmail messages        3333 non-null   int64  \n",
      " 6   total day minutes            3333 non-null   float64\n",
      " 7   total day calls              3333 non-null   int64  \n",
      " 8   total day charge             3333 non-null   float64\n",
      " 9   total eve minutes            3333 non-null   float64\n",
      " 10  total eve calls              3333 non-null   int64  \n",
      " 11  total eve charge             3333 non-null   float64\n",
      " 12  total night minutes          3333 non-null   float64\n",
      " 13  total night calls            3333 non-null   int64  \n",
      " 14  total night charge           3333 non-null   float64\n",
      " 15  total intl minutes           3333 non-null   float64\n",
      " 16  total intl calls             3333 non-null   int64  \n",
      " 17  total intl charge            3333 non-null   float64\n",
      " 18  customer service calls       3333 non-null   int64  \n",
      " 19  churn                        3333 non-null   bool   \n",
      " 20  division_East North Central  3333 non-null   int64  \n",
      " 21  division_East South Central  3333 non-null   int64  \n",
      " 22  division_Middle Atlantic     3333 non-null   int64  \n",
      " 23  division_Mountain            3333 non-null   int64  \n",
      " 24  division_New England         3333 non-null   int64  \n",
      " 25  division_Pacific             3333 non-null   int64  \n",
      " 26  division_South Atlantic      3333 non-null   int64  \n",
      " 27  division_West North Central  3333 non-null   int64  \n",
      " 28  division_West South Central  3333 non-null   int64  \n",
      "dtypes: bool(1), float64(8), int64(20)\n",
      "memory usage: 732.5 KB\n"
     ]
    }
   ],
   "source": [
    "df.info()"
   ]
  },
  {
   "cell_type": "code",
   "execution_count": 6,
   "metadata": {
    "ExecuteTime": {
     "end_time": "2021-04-02T15:57:17.706523Z",
     "start_time": "2021-04-02T15:57:17.702367Z"
    }
   },
   "outputs": [],
   "source": [
    "df.drop(columns=['Unnamed: 0'], axis = 1, inplace=True)"
   ]
  },
  {
   "cell_type": "code",
   "execution_count": 7,
   "metadata": {
    "ExecuteTime": {
     "end_time": "2021-04-02T15:57:18.296227Z",
     "start_time": "2021-04-02T15:57:17.916433Z"
    }
   },
   "outputs": [],
   "source": [
    "from sklearn.model_selection import train_test_split\n",
    "from sklearn.metrics import confusion_matrix, classification_report"
   ]
  },
  {
   "cell_type": "code",
   "execution_count": 8,
   "metadata": {
    "ExecuteTime": {
     "end_time": "2021-04-02T15:57:18.494092Z",
     "start_time": "2021-04-02T15:57:18.485708Z"
    }
   },
   "outputs": [],
   "source": [
    "X = df.drop(columns=['churn'], axis = 1)\n",
    "y = df['churn']\n",
    "\n",
    "X_train, X_test, y_train, y_test = train_test_split(X, y, random_state = 42)"
   ]
  },
  {
   "cell_type": "code",
   "execution_count": 9,
   "metadata": {
    "ExecuteTime": {
     "end_time": "2021-04-02T15:57:19.181233Z",
     "start_time": "2021-04-02T15:57:19.073990Z"
    }
   },
   "outputs": [
    {
     "data": {
      "text/plain": [
       "DecisionTreeClassifier()"
      ]
     },
     "execution_count": 9,
     "metadata": {},
     "output_type": "execute_result"
    }
   ],
   "source": [
    "from sklearn.tree import DecisionTreeClassifier\n",
    "\n",
    "dtree_default = DecisionTreeClassifier()\n",
    "\n",
    "dtree_default.fit(X_train, y_train)"
   ]
  },
  {
   "cell_type": "code",
   "execution_count": 10,
   "metadata": {
    "ExecuteTime": {
     "end_time": "2021-04-02T15:57:19.722432Z",
     "start_time": "2021-04-02T15:57:19.715758Z"
    }
   },
   "outputs": [],
   "source": [
    "app.layout = html.Div([\n",
    "    # Setting the main title of the Dashboard\n",
    "    html.H1(\"Chrun Data Data Analysis\", style={\"textAlign\": \"center\"}), html.Div([\n",
    "                html.H1(\"Decision Tree Modeling Confusion Matrix\", \n",
    "                        style={'textAlign': 'center'}),\n",
    "                # Adding the first dropdown menu and the subsequent time-series graph\n",
    "                dcc.Dropdown(id='my-dropdown',\n",
    "                             options=[{'label': 'Decision Tree', 'value': 'dtree_default'},\n",
    "                                      {'label': 'kNN','value': 'kNN'}], \n",
    "                             multi=False,value=['dtree_default'],\n",
    "                             style={\"display\": \"block\", \"margin-left\": \"auto\", \n",
    "                                    \"margin-right\": \"auto\", \"width\": \"60%\"}),\n",
    "                dcc.Graph(id='conf_matrix'),\n",
    "                html.H1(\"Decision Tree Modeling Feature Importance\", style={'textAlign': 'center'}),\n",
    "                # Adding the second dropdown menu and the subsequent time-series graph\n",
    "                dcc.Dropdown(id='my-dropdown2',\n",
    "                             options=[{'label': 'Decision Tree', 'value': 'dtree_default'},\n",
    "                                      {'label': 'kNN','value': 'kNN'}], \n",
    "                             multi=False,value=['dtree_default'],\n",
    "                             style={\"display\": \"block\", \"margin-left\": \"auto\", \n",
    "                                    \"margin-right\": \"auto\", \"width\": \"60%\"}),\n",
    "                dcc.Graph(id='feat_imp')\n",
    "            ], className=\"container\"),\n",
    "        ])"
   ]
  },
  {
   "cell_type": "code",
   "execution_count": 11,
   "metadata": {
    "ExecuteTime": {
     "end_time": "2021-04-02T15:57:20.240553Z",
     "start_time": "2021-04-02T15:57:20.235461Z"
    }
   },
   "outputs": [],
   "source": [
    "@app.callback(Output('conf_matrix', 'figure'),\n",
    "              [Input('my-dropdown', 'value')])\n",
    "def update_graph(selected_dropdown):\n",
    "    title = 'Decision Tree Confusion Matrix'\n",
    "    cm = list(confusion_matrix(y_test, dtree_default.predict(X_test)))\n",
    "    labels = ['Retained', 'Churned']\n",
    "    data = go.Heatmap(z=cm, y=labels, x=labels)\n",
    "    annotations = []\n",
    "    for i, row in enumerate(cm):\n",
    "        for j, value in enumerate(row):\n",
    "            annotations.append(\n",
    "                {\n",
    "                    \"x\": labels[i],\n",
    "                    \"y\": labels[j],\n",
    "                    \"font\": {\"color\": \"white\"},\n",
    "                    \"text\": str(value),\n",
    "                    \"xref\": \"x1\",\n",
    "                    \"yref\": \"y1\",\n",
    "                    \"showarrow\": False\n",
    "                }\n",
    "            )\n",
    "    layout = {\n",
    "        \"title\": title,\n",
    "        \"xaxis\": {\"title\": \"Predicted value\"},\n",
    "        \"yaxis\": {\"title\": \"Real value\"},\n",
    "        \"annotations\": annotations\n",
    "    }\n",
    "    fig = go.Figure(data=data, layout=layout)\n",
    "    return fig"
   ]
  },
  {
   "cell_type": "code",
   "execution_count": 12,
   "metadata": {
    "ExecuteTime": {
     "end_time": "2021-04-02T15:57:21.012483Z",
     "start_time": "2021-04-02T15:57:21.007838Z"
    }
   },
   "outputs": [],
   "source": [
    "@app.callback(Output('feat_imp', 'figure'),\n",
    "              [Input('my-dropdown2', 'value')])\n",
    "def update_graph(selected_dropdown_value):\n",
    "    title = 'Decision Tree Feature Importances'\n",
    "    feature_list = list(X_train.columns)\n",
    "    importances = dtree_default.feature_importances_\n",
    "    data = go.Bar(x = importances, y = feature_list, orientation = 'h')\n",
    "    fig = go.Figure(data = data)\n",
    "    return fig"
   ]
  },
  {
   "cell_type": "code",
   "execution_count": null,
   "metadata": {
    "ExecuteTime": {
     "end_time": "2021-04-02T15:53:30.324574Z",
     "start_time": "2021-04-02T15:53:30.192612Z"
    }
   },
   "outputs": [],
   "source": [
    "title = 'Decision Tree Feature Importances'\n",
    "feature_list = list(X_train.columns)\n",
    "importances = dtree_default.feature_importances_\n",
    "data = go.Bar(x = importances, y = feature_list)\n",
    "fig = go.Figure(data = data)\n",
    "fig.show()"
   ]
  },
  {
   "cell_type": "code",
   "execution_count": null,
   "metadata": {
    "ExecuteTime": {
     "start_time": "2021-04-02T15:57:22.846Z"
    }
   },
   "outputs": [
    {
     "name": "stdout",
     "output_type": "stream",
     "text": [
      "Dash is running on http://127.0.0.1:8050/\n",
      "\n",
      " * Serving Flask app \"__main__\" (lazy loading)\n",
      " * Environment: production\n",
      "\u001b[31m   WARNING: This is a development server. Do not use it in a production deployment.\u001b[0m\n",
      "\u001b[2m   Use a production WSGI server instead.\u001b[0m\n",
      " * Debug mode: off\n"
     ]
    },
    {
     "name": "stderr",
     "output_type": "stream",
     "text": [
      " * Running on http://127.0.0.1:8050/ (Press CTRL+C to quit)\n",
      "127.0.0.1 - - [02/Apr/2021 11:57:25] \"\u001b[37mGET / HTTP/1.1\u001b[0m\" 200 -\n",
      "127.0.0.1 - - [02/Apr/2021 11:57:25] \"\u001b[37mGET /_dash-dependencies HTTP/1.1\u001b[0m\" 200 -\n",
      "127.0.0.1 - - [02/Apr/2021 11:57:25] \"\u001b[37mGET /_dash-layout HTTP/1.1\u001b[0m\" 200 -\n",
      "127.0.0.1 - - [02/Apr/2021 11:57:25] \"\u001b[37mPOST /_dash-update-component HTTP/1.1\u001b[0m\" 200 -\n",
      "127.0.0.1 - - [02/Apr/2021 11:57:25] \"\u001b[37mPOST /_dash-update-component HTTP/1.1\u001b[0m\" 200 -\n",
      "127.0.0.1 - - [02/Apr/2021 15:07:03] \"\u001b[37mPOST /_dash-update-component HTTP/1.1\u001b[0m\" 200 -\n",
      "127.0.0.1 - - [02/Apr/2021 15:07:06] \"\u001b[37mPOST /_dash-update-component HTTP/1.1\u001b[0m\" 200 -\n"
     ]
    }
   ],
   "source": [
    "if __name__ == '__main__':\n",
    "    app.run_server()"
   ]
  },
  {
   "cell_type": "code",
   "execution_count": null,
   "metadata": {},
   "outputs": [],
   "source": []
  }
 ],
 "metadata": {
  "kernelspec": {
   "display_name": "Python 3",
   "language": "python",
   "name": "python3"
  },
  "language_info": {
   "codemirror_mode": {
    "name": "ipython",
    "version": 3
   },
   "file_extension": ".py",
   "mimetype": "text/x-python",
   "name": "python",
   "nbconvert_exporter": "python",
   "pygments_lexer": "ipython3",
   "version": "3.8.5"
  },
  "toc": {
   "base_numbering": 1,
   "nav_menu": {},
   "number_sections": true,
   "sideBar": true,
   "skip_h1_title": false,
   "title_cell": "Table of Contents",
   "title_sidebar": "Contents",
   "toc_cell": false,
   "toc_position": {},
   "toc_section_display": true,
   "toc_window_display": false
  },
  "varInspector": {
   "cols": {
    "lenName": 16,
    "lenType": 16,
    "lenVar": 40
   },
   "kernels_config": {
    "python": {
     "delete_cmd_postfix": "",
     "delete_cmd_prefix": "del ",
     "library": "var_list.py",
     "varRefreshCmd": "print(var_dic_list())"
    },
    "r": {
     "delete_cmd_postfix": ") ",
     "delete_cmd_prefix": "rm(",
     "library": "var_list.r",
     "varRefreshCmd": "cat(var_dic_list()) "
    }
   },
   "types_to_exclude": [
    "module",
    "function",
    "builtin_function_or_method",
    "instance",
    "_Feature"
   ],
   "window_display": false
  }
 },
 "nbformat": 4,
 "nbformat_minor": 4
}
